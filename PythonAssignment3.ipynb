{
  "nbformat": 4,
  "nbformat_minor": 0,
  "metadata": {
    "colab": {
      "provenance": []
    },
    "kernelspec": {
      "name": "python3",
      "display_name": "Python 3"
    },
    "language_info": {
      "name": "python"
    }
  },
  "cells": [
    {
      "cell_type": "markdown",
      "source": [
        "Q1: Sort the given list of tuples based on integer value using a lambda function.\n",
        "\n",
        "Given List:\n",
        "[('Sachin Tendulkar', 34357), ('Ricky Ponting', 27483), ('Jack Kallis', 25534), ('Virat Kohli', 24936)]\n",
        "\n",
        "Answer:"
      ],
      "metadata": {
        "id": "xVhqVzSRrgru"
      }
    },
    {
      "cell_type": "code",
      "source": [
        "data = [('Sachin Tendulkar', 34357), ('Ricky Ponting', 27483), ('Jack Kallis', 25534), ('Virat Kohli', 24936)]\n",
        "sorted_data = sorted(data, key=lambda x: x[1])\n",
        "print(sorted_data)\n"
      ],
      "metadata": {
        "colab": {
          "base_uri": "https://localhost:8080/"
        },
        "id": "hXJFOL3-rmF0",
        "outputId": "b53e0757-611e-43f8-c383-22408606e84f"
      },
      "execution_count": 1,
      "outputs": [
        {
          "output_type": "stream",
          "name": "stdout",
          "text": [
            "[('Virat Kohli', 24936), ('Jack Kallis', 25534), ('Ricky Ponting', 27483), ('Sachin Tendulkar', 34357)]\n"
          ]
        }
      ]
    },
    {
      "cell_type": "markdown",
      "source": [
        "Q2: Find the squares of all numbers in the given list using lambda and map functions.\n",
        "\n",
        "Given List: [1, 2, 3, 4, 5, 6, 7, 8, 9, 10]\n",
        "\n",
        "Answer:"
      ],
      "metadata": {
        "id": "vfmT_brzrrgO"
      }
    },
    {
      "cell_type": "code",
      "source": [
        "numbers = [1, 2, 3, 4, 5, 6, 7, 8, 9, 10]\n",
        "squared_numbers = list(map(lambda x: x ** 2, numbers))\n",
        "print(squared_numbers)\n"
      ],
      "metadata": {
        "colab": {
          "base_uri": "https://localhost:8080/"
        },
        "id": "SsHDq0elrysH",
        "outputId": "a39c99ba-99f4-4b27-be84-0ef154bd1d19"
      },
      "execution_count": 2,
      "outputs": [
        {
          "output_type": "stream",
          "name": "stdout",
          "text": [
            "[1, 4, 9, 16, 25, 36, 49, 64, 81, 100]\n"
          ]
        }
      ]
    },
    {
      "cell_type": "markdown",
      "source": [
        "Q3: Convert the given list of integers into a tuple of strings using map and lambda functions.\n",
        "\n",
        "Given List: [1, 2, 3, 4, 5, 6, 7, 8, 9, 10]\n",
        "Expected Output: ('1', '2', '3', '4', '5', '6', '7', '8', '9', '10')\n",
        "\n",
        "Answer:"
      ],
      "metadata": {
        "id": "7LhqIECVr1Wn"
      }
    },
    {
      "cell_type": "code",
      "source": [
        "numbers = [1, 2, 3, 4, 5, 6, 7, 8, 9, 10]\n",
        "string_tuple = tuple(map(lambda x: str(x), numbers))\n",
        "print(string_tuple)\n"
      ],
      "metadata": {
        "colab": {
          "base_uri": "https://localhost:8080/"
        },
        "id": "EMeKZGvGsK6k",
        "outputId": "bcabc0a4-2324-491f-c150-8681ba731207"
      },
      "execution_count": 3,
      "outputs": [
        {
          "output_type": "stream",
          "name": "stdout",
          "text": [
            "('1', '2', '3', '4', '5', '6', '7', '8', '9', '10')\n"
          ]
        }
      ]
    },
    {
      "cell_type": "markdown",
      "source": [
        "Q4: Compute the product of a list containing numbers from 1 to 25 using the reduce function.\n",
        "Answer:"
      ],
      "metadata": {
        "id": "byUiAjacsVPF"
      }
    },
    {
      "cell_type": "code",
      "source": [
        "from functools import reduce\n",
        "\n",
        "numbers = list(range(1, 26))\n",
        "product = reduce(lambda x, y: x * y, numbers)\n",
        "print(product)\n"
      ],
      "metadata": {
        "colab": {
          "base_uri": "https://localhost:8080/"
        },
        "id": "RrLAUhD9sa6R",
        "outputId": "2828924b-128e-4320-9056-53a14c323d8c"
      },
      "execution_count": 4,
      "outputs": [
        {
          "output_type": "stream",
          "name": "stdout",
          "text": [
            "15511210043330985984000000\n"
          ]
        }
      ]
    },
    {
      "cell_type": "markdown",
      "source": [
        "Q5: Filter the numbers in a given list that are divisible by 2 and 3 using the filter function.\n",
        "\n",
        "Given List: [2, 3, 6, 9, 27, 60, 90, 120, 55, 46]\n",
        "Answer :"
      ],
      "metadata": {
        "id": "hiRFd8Rksgl7"
      }
    },
    {
      "cell_type": "code",
      "source": [
        "numbers = [2, 3, 6, 9, 27, 60, 90, 120, 55, 46]\n",
        "filtered_numbers = list(filter(lambda x: x % 2 == 0 and x % 3 == 0, numbers))\n",
        "print(filtered_numbers)\n"
      ],
      "metadata": {
        "colab": {
          "base_uri": "https://localhost:8080/"
        },
        "id": "iYnGRh1ZsjNH",
        "outputId": "7cc637e6-d212-4297-e303-ad319a30f0c8"
      },
      "execution_count": 5,
      "outputs": [
        {
          "output_type": "stream",
          "name": "stdout",
          "text": [
            "[6, 60, 90, 120]\n"
          ]
        }
      ]
    },
    {
      "cell_type": "markdown",
      "source": [
        "Q6: Find palindromes in the given list of strings using lambda and filter function.\n",
        "\n",
        "Given List: ['python', 'php', 'aba', 'radar', 'level']\n",
        "Answer :"
      ],
      "metadata": {
        "id": "gFKZ0U1rsmJj"
      }
    },
    {
      "cell_type": "code",
      "source": [
        "words = ['python', 'php', 'aba', 'radar', 'level']\n",
        "palindromes = list(filter(lambda x: x == x[::-1], words))\n",
        "print(palindromes)\n"
      ],
      "metadata": {
        "colab": {
          "base_uri": "https://localhost:8080/"
        },
        "id": "c7Hoz5lZsrS2",
        "outputId": "6bc138c8-a419-4772-97f4-9daebbb6e275"
      },
      "execution_count": 6,
      "outputs": [
        {
          "output_type": "stream",
          "name": "stdout",
          "text": [
            "['php', 'aba', 'radar', 'level']\n"
          ]
        }
      ]
    }
  ]
}